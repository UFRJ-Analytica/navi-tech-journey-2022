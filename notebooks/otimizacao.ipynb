{
 "cells": [
  {
   "cell_type": "code",
   "execution_count": 218,
   "metadata": {},
   "outputs": [],
   "source": [
    "import pandas as pd"
   ]
  },
  {
   "cell_type": "code",
   "execution_count": 219,
   "metadata": {},
   "outputs": [],
   "source": [
    "df_precos_leilao = pd.read_csv(\"../dados/PrecoLeiloes.csv\")"
   ]
  },
  {
   "cell_type": "code",
   "execution_count": 220,
   "metadata": {},
   "outputs": [
    {
     "data": {
      "text/html": [
       "<div>\n",
       "<style scoped>\n",
       "    .dataframe tbody tr th:only-of-type {\n",
       "        vertical-align: middle;\n",
       "    }\n",
       "\n",
       "    .dataframe tbody tr th {\n",
       "        vertical-align: top;\n",
       "    }\n",
       "\n",
       "    .dataframe thead th {\n",
       "        text-align: right;\n",
       "    }\n",
       "</style>\n",
       "<table border=\"1\" class=\"dataframe\">\n",
       "  <thead>\n",
       "    <tr style=\"text-align: right;\">\n",
       "      <th></th>\n",
       "      <th>CNPJ</th>\n",
       "      <th>SiglaVendedor</th>\n",
       "      <th>PrecoVenda</th>\n",
       "      <th>UnidadePreco</th>\n",
       "      <th>UF</th>\n",
       "      <th>InicioSuprimento</th>\n",
       "      <th>AnoLeilao</th>\n",
       "    </tr>\n",
       "  </thead>\n",
       "  <tbody>\n",
       "    <tr>\n",
       "      <th>0</th>\n",
       "      <td>00.357.038/0001-16</td>\n",
       "      <td>ELETRONORTE</td>\n",
       "      <td>212.11</td>\n",
       "      <td>R$/MWh</td>\n",
       "      <td>-</td>\n",
       "      <td>2023-01-01</td>\n",
       "      <td>2021</td>\n",
       "    </tr>\n",
       "    <tr>\n",
       "      <th>1</th>\n",
       "      <td>00.622.416/0001-41</td>\n",
       "      <td>STATKRAFT</td>\n",
       "      <td>146.61</td>\n",
       "      <td>R$/MWh</td>\n",
       "      <td>BA</td>\n",
       "      <td>2026-01-01</td>\n",
       "      <td>2021</td>\n",
       "    </tr>\n",
       "    <tr>\n",
       "      <th>2</th>\n",
       "      <td>07.674.341/0001-91</td>\n",
       "      <td>UTE Uberaba 2</td>\n",
       "      <td>296.55</td>\n",
       "      <td>R$/MWh</td>\n",
       "      <td>MG</td>\n",
       "      <td>2026-01-01</td>\n",
       "      <td>2021</td>\n",
       "    </tr>\n",
       "    <tr>\n",
       "      <th>3</th>\n",
       "      <td>07.912.062/0001-19</td>\n",
       "      <td>LAGUNA</td>\n",
       "      <td>256.00</td>\n",
       "      <td>R$/MWh</td>\n",
       "      <td>MS</td>\n",
       "      <td>2025-01-01</td>\n",
       "      <td>2021</td>\n",
       "    </tr>\n",
       "    <tr>\n",
       "      <th>4</th>\n",
       "      <td>07.966.116/0001-29</td>\n",
       "      <td>ALBIOMA</td>\n",
       "      <td>216.97</td>\n",
       "      <td>R$/MWh</td>\n",
       "      <td>GO</td>\n",
       "      <td>2025-01-01</td>\n",
       "      <td>2021</td>\n",
       "    </tr>\n",
       "  </tbody>\n",
       "</table>\n",
       "</div>"
      ],
      "text/plain": [
       "                 CNPJ  SiglaVendedor  PrecoVenda UnidadePreco  UF  \\\n",
       "0  00.357.038/0001-16    ELETRONORTE      212.11       R$/MWh   -   \n",
       "1  00.622.416/0001-41      STATKRAFT      146.61       R$/MWh  BA   \n",
       "2  07.674.341/0001-91  UTE Uberaba 2      296.55       R$/MWh  MG   \n",
       "3  07.912.062/0001-19         LAGUNA      256.00       R$/MWh  MS   \n",
       "4  07.966.116/0001-29        ALBIOMA      216.97       R$/MWh  GO   \n",
       "\n",
       "  InicioSuprimento  AnoLeilao  \n",
       "0       2023-01-01       2021  \n",
       "1       2026-01-01       2021  \n",
       "2       2026-01-01       2021  \n",
       "3       2025-01-01       2021  \n",
       "4       2025-01-01       2021  "
      ]
     },
     "execution_count": 220,
     "metadata": {},
     "output_type": "execute_result"
    }
   ],
   "source": [
    "df_precos_leilao.head()"
   ]
  },
  {
   "cell_type": "code",
   "execution_count": 221,
   "metadata": {},
   "outputs": [],
   "source": [
    "df_info_geradoras = pd.read_csv(\"../dados/InfoGeradoras.csv\")"
   ]
  },
  {
   "cell_type": "code",
   "execution_count": 222,
   "metadata": {},
   "outputs": [
    {
     "data": {
      "text/html": [
       "<div>\n",
       "<style scoped>\n",
       "    .dataframe tbody tr th:only-of-type {\n",
       "        vertical-align: middle;\n",
       "    }\n",
       "\n",
       "    .dataframe tbody tr th {\n",
       "        vertical-align: top;\n",
       "    }\n",
       "\n",
       "    .dataframe thead th {\n",
       "        text-align: right;\n",
       "    }\n",
       "</style>\n",
       "<table border=\"1\" class=\"dataframe\">\n",
       "  <thead>\n",
       "    <tr style=\"text-align: right;\">\n",
       "      <th></th>\n",
       "      <th>CNPJ</th>\n",
       "      <th>Sigla Vendedor</th>\n",
       "      <th>Fonte</th>\n",
       "      <th>NotaSustentabilidade</th>\n",
       "    </tr>\n",
       "  </thead>\n",
       "  <tbody>\n",
       "    <tr>\n",
       "      <th>0</th>\n",
       "      <td>00.357.038/0001-16</td>\n",
       "      <td>ELETRONORTE</td>\n",
       "      <td>-</td>\n",
       "      <td>5.0</td>\n",
       "    </tr>\n",
       "    <tr>\n",
       "      <th>1</th>\n",
       "      <td>00.622.416/0001-41</td>\n",
       "      <td>STATKRAFT</td>\n",
       "      <td>Eólica</td>\n",
       "      <td>9.0</td>\n",
       "    </tr>\n",
       "    <tr>\n",
       "      <th>2</th>\n",
       "      <td>07.674.341/0001-91</td>\n",
       "      <td>UTE Uberaba 2</td>\n",
       "      <td>Biomassa</td>\n",
       "      <td>8.0</td>\n",
       "    </tr>\n",
       "    <tr>\n",
       "      <th>3</th>\n",
       "      <td>07.912.062/0001-19</td>\n",
       "      <td>LAGUNA</td>\n",
       "      <td>Biomassa</td>\n",
       "      <td>8.0</td>\n",
       "    </tr>\n",
       "    <tr>\n",
       "      <th>4</th>\n",
       "      <td>07.966.116/0001-29</td>\n",
       "      <td>ALBIOMA</td>\n",
       "      <td>Biomassa</td>\n",
       "      <td>8.0</td>\n",
       "    </tr>\n",
       "  </tbody>\n",
       "</table>\n",
       "</div>"
      ],
      "text/plain": [
       "                 CNPJ Sigla Vendedor     Fonte  NotaSustentabilidade\n",
       "0  00.357.038/0001-16    ELETRONORTE         -                   5.0\n",
       "1  00.622.416/0001-41      STATKRAFT    Eólica                   9.0\n",
       "2  07.674.341/0001-91  UTE Uberaba 2  Biomassa                   8.0\n",
       "3  07.912.062/0001-19         LAGUNA  Biomassa                   8.0\n",
       "4  07.966.116/0001-29        ALBIOMA  Biomassa                   8.0"
      ]
     },
     "execution_count": 222,
     "metadata": {},
     "output_type": "execute_result"
    }
   ],
   "source": [
    "df_info_geradoras.head()"
   ]
  },
  {
   "cell_type": "code",
   "execution_count": 223,
   "metadata": {},
   "outputs": [],
   "source": [
    "df_tarifas_distribuidoras = pd.read_csv(\"../dados/TarifasDistribuidoras.csv\")"
   ]
  },
  {
   "cell_type": "code",
   "execution_count": 224,
   "metadata": {},
   "outputs": [
    {
     "data": {
      "text/html": [
       "<div>\n",
       "<style scoped>\n",
       "    .dataframe tbody tr th:only-of-type {\n",
       "        vertical-align: middle;\n",
       "    }\n",
       "\n",
       "    .dataframe tbody tr th {\n",
       "        vertical-align: top;\n",
       "    }\n",
       "\n",
       "    .dataframe thead th {\n",
       "        text-align: right;\n",
       "    }\n",
       "</style>\n",
       "<table border=\"1\" class=\"dataframe\">\n",
       "  <thead>\n",
       "    <tr style=\"text-align: right;\">\n",
       "      <th></th>\n",
       "      <th>_id</th>\n",
       "      <th>DatGeracaoConjuntoDados</th>\n",
       "      <th>DscREH</th>\n",
       "      <th>SigAgente</th>\n",
       "      <th>NumCNPJDistribuidora</th>\n",
       "      <th>DatInicioVigencia</th>\n",
       "      <th>DatFimVigencia</th>\n",
       "      <th>DscBaseTarifaria</th>\n",
       "      <th>DscSubGrupo</th>\n",
       "      <th>DscModalidadeTarifaria</th>\n",
       "      <th>DscClasse</th>\n",
       "      <th>DscSubClasse</th>\n",
       "      <th>DscDetalhe</th>\n",
       "      <th>NomPostoTarifario</th>\n",
       "      <th>DscUnidadeTerciaria</th>\n",
       "      <th>SigAgenteAcessante</th>\n",
       "      <th>VlrTUSD</th>\n",
       "      <th>VlrTE</th>\n",
       "      <th>rank</th>\n",
       "    </tr>\n",
       "  </thead>\n",
       "  <tbody>\n",
       "    <tr>\n",
       "      <th>0</th>\n",
       "      <td>67736</td>\n",
       "      <td>2022-06-01</td>\n",
       "      <td>RESOLUÇÃO HOMOLOGATÓRIA Nº 3.014, DE 15 DE MAR...</td>\n",
       "      <td>LIGHT</td>\n",
       "      <td>60444437000146</td>\n",
       "      <td>2022-03-15</td>\n",
       "      <td>2023-03-14</td>\n",
       "      <td>Base Econômica</td>\n",
       "      <td>B1</td>\n",
       "      <td>Convencional</td>\n",
       "      <td>Residencial</td>\n",
       "      <td>Residencial</td>\n",
       "      <td>Não se aplica</td>\n",
       "      <td>Não se aplica</td>\n",
       "      <td>R$/MWh</td>\n",
       "      <td>Não se aplica</td>\n",
       "      <td>463.33</td>\n",
       "      <td>346.57</td>\n",
       "      <td>0.057309</td>\n",
       "    </tr>\n",
       "    <tr>\n",
       "      <th>1</th>\n",
       "      <td>70927</td>\n",
       "      <td>2022-06-01</td>\n",
       "      <td>RESOLUÇÃO HOMOLOGATÓRIA Nº 3.015, DE 15 DE MAR...</td>\n",
       "      <td>ENEL RJ</td>\n",
       "      <td>33050071000158</td>\n",
       "      <td>2022-03-15</td>\n",
       "      <td>2023-03-14</td>\n",
       "      <td>Base Econômica</td>\n",
       "      <td>B1</td>\n",
       "      <td>Convencional</td>\n",
       "      <td>Residencial</td>\n",
       "      <td>Residencial</td>\n",
       "      <td>Não se aplica</td>\n",
       "      <td>Não se aplica</td>\n",
       "      <td>R$/MWh</td>\n",
       "      <td>Não se aplica</td>\n",
       "      <td>523.52</td>\n",
       "      <td>307.44</td>\n",
       "      <td>0.057309</td>\n",
       "    </tr>\n",
       "  </tbody>\n",
       "</table>\n",
       "</div>"
      ],
      "text/plain": [
       "     _id DatGeracaoConjuntoDados  \\\n",
       "0  67736              2022-06-01   \n",
       "1  70927              2022-06-01   \n",
       "\n",
       "                                              DscREH SigAgente  \\\n",
       "0  RESOLUÇÃO HOMOLOGATÓRIA Nº 3.014, DE 15 DE MAR...     LIGHT   \n",
       "1  RESOLUÇÃO HOMOLOGATÓRIA Nº 3.015, DE 15 DE MAR...   ENEL RJ   \n",
       "\n",
       "   NumCNPJDistribuidora DatInicioVigencia DatFimVigencia DscBaseTarifaria  \\\n",
       "0        60444437000146        2022-03-15     2023-03-14   Base Econômica   \n",
       "1        33050071000158        2022-03-15     2023-03-14   Base Econômica   \n",
       "\n",
       "  DscSubGrupo DscModalidadeTarifaria    DscClasse DscSubClasse     DscDetalhe  \\\n",
       "0          B1           Convencional  Residencial  Residencial  Não se aplica   \n",
       "1          B1           Convencional  Residencial  Residencial  Não se aplica   \n",
       "\n",
       "  NomPostoTarifario DscUnidadeTerciaria SigAgenteAcessante  VlrTUSD   VlrTE  \\\n",
       "0     Não se aplica              R$/MWh      Não se aplica   463.33  346.57   \n",
       "1     Não se aplica              R$/MWh      Não se aplica   523.52  307.44   \n",
       "\n",
       "       rank  \n",
       "0  0.057309  \n",
       "1  0.057309  "
      ]
     },
     "execution_count": 224,
     "metadata": {},
     "output_type": "execute_result"
    }
   ],
   "source": [
    "df_tarifas_distribuidoras.head()"
   ]
  },
  {
   "cell_type": "markdown",
   "metadata": {},
   "source": [
    "## Dados de Geradoras"
   ]
  },
  {
   "cell_type": "code",
   "execution_count": 257,
   "metadata": {},
   "outputs": [],
   "source": [
    "df_geradoras = df_precos_leilao.merge(df_info_geradoras)[[\"SiglaVendedor\", \"PrecoVenda\", \"NotaSustentabilidade\", \"Fonte\"]]"
   ]
  },
  {
   "cell_type": "code",
   "execution_count": 258,
   "metadata": {},
   "outputs": [
    {
     "data": {
      "text/html": [
       "<div>\n",
       "<style scoped>\n",
       "    .dataframe tbody tr th:only-of-type {\n",
       "        vertical-align: middle;\n",
       "    }\n",
       "\n",
       "    .dataframe tbody tr th {\n",
       "        vertical-align: top;\n",
       "    }\n",
       "\n",
       "    .dataframe thead th {\n",
       "        text-align: right;\n",
       "    }\n",
       "</style>\n",
       "<table border=\"1\" class=\"dataframe\">\n",
       "  <thead>\n",
       "    <tr style=\"text-align: right;\">\n",
       "      <th></th>\n",
       "      <th>SiglaVendedor</th>\n",
       "      <th>PrecoVenda</th>\n",
       "      <th>NotaSustentabilidade</th>\n",
       "      <th>Fonte</th>\n",
       "    </tr>\n",
       "  </thead>\n",
       "  <tbody>\n",
       "    <tr>\n",
       "      <th>0</th>\n",
       "      <td>ELETRONORTE</td>\n",
       "      <td>212.11</td>\n",
       "      <td>5.0</td>\n",
       "      <td>-</td>\n",
       "    </tr>\n",
       "    <tr>\n",
       "      <th>1</th>\n",
       "      <td>STATKRAFT</td>\n",
       "      <td>146.61</td>\n",
       "      <td>9.0</td>\n",
       "      <td>Eólica</td>\n",
       "    </tr>\n",
       "    <tr>\n",
       "      <th>2</th>\n",
       "      <td>UTE Uberaba 2</td>\n",
       "      <td>296.55</td>\n",
       "      <td>8.0</td>\n",
       "      <td>Biomassa</td>\n",
       "    </tr>\n",
       "    <tr>\n",
       "      <th>3</th>\n",
       "      <td>LAGUNA</td>\n",
       "      <td>256.00</td>\n",
       "      <td>8.0</td>\n",
       "      <td>Biomassa</td>\n",
       "    </tr>\n",
       "    <tr>\n",
       "      <th>4</th>\n",
       "      <td>ALBIOMA</td>\n",
       "      <td>216.97</td>\n",
       "      <td>8.0</td>\n",
       "      <td>Biomassa</td>\n",
       "    </tr>\n",
       "  </tbody>\n",
       "</table>\n",
       "</div>"
      ],
      "text/plain": [
       "   SiglaVendedor  PrecoVenda  NotaSustentabilidade     Fonte\n",
       "0    ELETRONORTE      212.11                   5.0         -\n",
       "1      STATKRAFT      146.61                   9.0    Eólica\n",
       "2  UTE Uberaba 2      296.55                   8.0  Biomassa\n",
       "3         LAGUNA      256.00                   8.0  Biomassa\n",
       "4        ALBIOMA      216.97                   8.0  Biomassa"
      ]
     },
     "execution_count": 258,
     "metadata": {},
     "output_type": "execute_result"
    }
   ],
   "source": [
    "df_geradoras.head()"
   ]
  },
  {
   "cell_type": "markdown",
   "metadata": {},
   "source": [
    "## Dados Distribuição"
   ]
  },
  {
   "cell_type": "code",
   "execution_count": 259,
   "metadata": {},
   "outputs": [],
   "source": [
    "df_distribuidoras = df_tarifas_distribuidoras[[\"SigAgente\", \"VlrTUSD\", \"VlrTE\"]]"
   ]
  },
  {
   "cell_type": "code",
   "execution_count": 260,
   "metadata": {},
   "outputs": [
    {
     "data": {
      "text/html": [
       "<div>\n",
       "<style scoped>\n",
       "    .dataframe tbody tr th:only-of-type {\n",
       "        vertical-align: middle;\n",
       "    }\n",
       "\n",
       "    .dataframe tbody tr th {\n",
       "        vertical-align: top;\n",
       "    }\n",
       "\n",
       "    .dataframe thead th {\n",
       "        text-align: right;\n",
       "    }\n",
       "</style>\n",
       "<table border=\"1\" class=\"dataframe\">\n",
       "  <thead>\n",
       "    <tr style=\"text-align: right;\">\n",
       "      <th></th>\n",
       "      <th>_id</th>\n",
       "      <th>DatGeracaoConjuntoDados</th>\n",
       "      <th>DscREH</th>\n",
       "      <th>SigAgente</th>\n",
       "      <th>NumCNPJDistribuidora</th>\n",
       "      <th>DatInicioVigencia</th>\n",
       "      <th>DatFimVigencia</th>\n",
       "      <th>DscBaseTarifaria</th>\n",
       "      <th>DscSubGrupo</th>\n",
       "      <th>DscModalidadeTarifaria</th>\n",
       "      <th>DscClasse</th>\n",
       "      <th>DscSubClasse</th>\n",
       "      <th>DscDetalhe</th>\n",
       "      <th>NomPostoTarifario</th>\n",
       "      <th>DscUnidadeTerciaria</th>\n",
       "      <th>SigAgenteAcessante</th>\n",
       "      <th>VlrTUSD</th>\n",
       "      <th>VlrTE</th>\n",
       "      <th>rank</th>\n",
       "    </tr>\n",
       "  </thead>\n",
       "  <tbody>\n",
       "    <tr>\n",
       "      <th>0</th>\n",
       "      <td>67736</td>\n",
       "      <td>2022-06-01</td>\n",
       "      <td>RESOLUÇÃO HOMOLOGATÓRIA Nº 3.014, DE 15 DE MAR...</td>\n",
       "      <td>LIGHT</td>\n",
       "      <td>60444437000146</td>\n",
       "      <td>2022-03-15</td>\n",
       "      <td>2023-03-14</td>\n",
       "      <td>Base Econômica</td>\n",
       "      <td>B1</td>\n",
       "      <td>Convencional</td>\n",
       "      <td>Residencial</td>\n",
       "      <td>Residencial</td>\n",
       "      <td>Não se aplica</td>\n",
       "      <td>Não se aplica</td>\n",
       "      <td>R$/MWh</td>\n",
       "      <td>Não se aplica</td>\n",
       "      <td>463.33</td>\n",
       "      <td>346.57</td>\n",
       "      <td>0.057309</td>\n",
       "    </tr>\n",
       "    <tr>\n",
       "      <th>1</th>\n",
       "      <td>70927</td>\n",
       "      <td>2022-06-01</td>\n",
       "      <td>RESOLUÇÃO HOMOLOGATÓRIA Nº 3.015, DE 15 DE MAR...</td>\n",
       "      <td>ENEL RJ</td>\n",
       "      <td>33050071000158</td>\n",
       "      <td>2022-03-15</td>\n",
       "      <td>2023-03-14</td>\n",
       "      <td>Base Econômica</td>\n",
       "      <td>B1</td>\n",
       "      <td>Convencional</td>\n",
       "      <td>Residencial</td>\n",
       "      <td>Residencial</td>\n",
       "      <td>Não se aplica</td>\n",
       "      <td>Não se aplica</td>\n",
       "      <td>R$/MWh</td>\n",
       "      <td>Não se aplica</td>\n",
       "      <td>523.52</td>\n",
       "      <td>307.44</td>\n",
       "      <td>0.057309</td>\n",
       "    </tr>\n",
       "  </tbody>\n",
       "</table>\n",
       "</div>"
      ],
      "text/plain": [
       "     _id DatGeracaoConjuntoDados  \\\n",
       "0  67736              2022-06-01   \n",
       "1  70927              2022-06-01   \n",
       "\n",
       "                                              DscREH SigAgente  \\\n",
       "0  RESOLUÇÃO HOMOLOGATÓRIA Nº 3.014, DE 15 DE MAR...     LIGHT   \n",
       "1  RESOLUÇÃO HOMOLOGATÓRIA Nº 3.015, DE 15 DE MAR...   ENEL RJ   \n",
       "\n",
       "   NumCNPJDistribuidora DatInicioVigencia DatFimVigencia DscBaseTarifaria  \\\n",
       "0        60444437000146        2022-03-15     2023-03-14   Base Econômica   \n",
       "1        33050071000158        2022-03-15     2023-03-14   Base Econômica   \n",
       "\n",
       "  DscSubGrupo DscModalidadeTarifaria    DscClasse DscSubClasse     DscDetalhe  \\\n",
       "0          B1           Convencional  Residencial  Residencial  Não se aplica   \n",
       "1          B1           Convencional  Residencial  Residencial  Não se aplica   \n",
       "\n",
       "  NomPostoTarifario DscUnidadeTerciaria SigAgenteAcessante  VlrTUSD   VlrTE  \\\n",
       "0     Não se aplica              R$/MWh      Não se aplica   463.33  346.57   \n",
       "1     Não se aplica              R$/MWh      Não se aplica   523.52  307.44   \n",
       "\n",
       "       rank  \n",
       "0  0.057309  \n",
       "1  0.057309  "
      ]
     },
     "execution_count": 260,
     "metadata": {},
     "output_type": "execute_result"
    }
   ],
   "source": [
    "df_tarifas_distribuidoras"
   ]
  },
  {
   "cell_type": "markdown",
   "metadata": {},
   "source": [
    "## Otimização"
   ]
  },
  {
   "cell_type": "code",
   "execution_count": 261,
   "metadata": {},
   "outputs": [],
   "source": [
    "import cvxpy as cp\n",
    "import numpy as np"
   ]
  },
  {
   "cell_type": "code",
   "execution_count": 262,
   "metadata": {},
   "outputs": [],
   "source": [
    "venda = df_geradoras[\"PrecoVenda\"].values\n",
    "nota = df_geradoras[\"NotaSustentabilidade\"].values\n",
    "quant_geradoras = len(df_geradoras)"
   ]
  },
  {
   "cell_type": "code",
   "execution_count": 263,
   "metadata": {},
   "outputs": [],
   "source": [
    "X = cp.Variable((quant_geradoras,1))"
   ]
  },
  {
   "cell_type": "code",
   "execution_count": 264,
   "metadata": {},
   "outputs": [],
   "source": [
    "gasto_mwh = 270/1000"
   ]
  },
  {
   "cell_type": "markdown",
   "metadata": {},
   "source": [
    "## Com sustentabilidade"
   ]
  },
  {
   "cell_type": "markdown",
   "metadata": {},
   "source": [
    "$ \\text{minimize } w = Perc * ( venda - k * nota_{sustentabilidade}) $\n",
    "\n",
    "$ \\text{st.}  \\sum Perc = gasto_{mwh} $\n",
    "\n",
    "$ \\text{st.}  Perc_i / gasto_{mwh} <= 0.75 $"
   ]
  },
  {
   "cell_type": "code",
   "execution_count": 265,
   "metadata": {},
   "outputs": [],
   "source": [
    "k = 0"
   ]
  },
  {
   "cell_type": "code",
   "execution_count": 266,
   "metadata": {},
   "outputs": [],
   "source": [
    "objective = cp.Minimize(cp.sum(cp.multiply(X, [venda - k * nota])))\n",
    "total_mwh = cp.sum(X) == gasto_mwh\n",
    "proporcao = X/gasto_mwh <= 0.75\n",
    "constraints = [X >= 0, total_mwh, proporcao]\n",
    "prob = cp.Problem(objective, constraints)"
   ]
  },
  {
   "cell_type": "code",
   "execution_count": 267,
   "metadata": {},
   "outputs": [],
   "source": [
    "result = prob.solve()"
   ]
  },
  {
   "cell_type": "code",
   "execution_count": 268,
   "metadata": {},
   "outputs": [],
   "source": [
    "df_geradoras[\"Proposta\"] = X.value"
   ]
  },
  {
   "cell_type": "code",
   "execution_count": 269,
   "metadata": {},
   "outputs": [
    {
     "data": {
      "text/html": [
       "<div>\n",
       "<style scoped>\n",
       "    .dataframe tbody tr th:only-of-type {\n",
       "        vertical-align: middle;\n",
       "    }\n",
       "\n",
       "    .dataframe tbody tr th {\n",
       "        vertical-align: top;\n",
       "    }\n",
       "\n",
       "    .dataframe thead th {\n",
       "        text-align: right;\n",
       "    }\n",
       "</style>\n",
       "<table border=\"1\" class=\"dataframe\">\n",
       "  <thead>\n",
       "    <tr style=\"text-align: right;\">\n",
       "      <th></th>\n",
       "      <th>SiglaVendedor</th>\n",
       "      <th>PrecoVenda</th>\n",
       "      <th>NotaSustentabilidade</th>\n",
       "      <th>Fonte</th>\n",
       "      <th>Proposta</th>\n",
       "    </tr>\n",
       "  </thead>\n",
       "  <tbody>\n",
       "    <tr>\n",
       "      <th>16</th>\n",
       "      <td>SÃO ROQUE ENERGÉTICA</td>\n",
       "      <td>119.30</td>\n",
       "      <td>8.0</td>\n",
       "      <td>Hidrelétrica (UHE)</td>\n",
       "      <td>2.025000e-01</td>\n",
       "    </tr>\n",
       "    <tr>\n",
       "      <th>17</th>\n",
       "      <td>SOLAR TECNOLOGIA</td>\n",
       "      <td>132.75</td>\n",
       "      <td>9.0</td>\n",
       "      <td>Solar Fotovoltaica</td>\n",
       "      <td>6.750000e-02</td>\n",
       "    </tr>\n",
       "    <tr>\n",
       "      <th>36</th>\n",
       "      <td>SANTA LUZIA IX</td>\n",
       "      <td>149.34</td>\n",
       "      <td>9.0</td>\n",
       "      <td>Solar Fotovoltaica</td>\n",
       "      <td>5.439741e-12</td>\n",
       "    </tr>\n",
       "    <tr>\n",
       "      <th>35</th>\n",
       "      <td>SANTA LUZIA VII</td>\n",
       "      <td>147.07</td>\n",
       "      <td>9.0</td>\n",
       "      <td>Solar Fotovoltaica</td>\n",
       "      <td>5.315233e-12</td>\n",
       "    </tr>\n",
       "    <tr>\n",
       "      <th>1</th>\n",
       "      <td>STATKRAFT</td>\n",
       "      <td>146.61</td>\n",
       "      <td>9.0</td>\n",
       "      <td>Eólica</td>\n",
       "      <td>5.248906e-12</td>\n",
       "    </tr>\n",
       "  </tbody>\n",
       "</table>\n",
       "</div>"
      ],
      "text/plain": [
       "           SiglaVendedor  PrecoVenda  NotaSustentabilidade  \\\n",
       "16  SÃO ROQUE ENERGÉTICA      119.30                   8.0   \n",
       "17      SOLAR TECNOLOGIA      132.75                   9.0   \n",
       "36        SANTA LUZIA IX      149.34                   9.0   \n",
       "35       SANTA LUZIA VII      147.07                   9.0   \n",
       "1              STATKRAFT      146.61                   9.0   \n",
       "\n",
       "                 Fonte      Proposta  \n",
       "16  Hidrelétrica (UHE)  2.025000e-01  \n",
       "17  Solar Fotovoltaica  6.750000e-02  \n",
       "36  Solar Fotovoltaica  5.439741e-12  \n",
       "35  Solar Fotovoltaica  5.315233e-12  \n",
       "1               Eólica  5.248906e-12  "
      ]
     },
     "execution_count": 269,
     "metadata": {},
     "output_type": "execute_result"
    }
   ],
   "source": [
    "df_geradoras.sort_values(\"Proposta\", ascending=False)[:5]"
   ]
  },
  {
   "cell_type": "markdown",
   "metadata": {},
   "source": [
    "## Com sustentabilidade"
   ]
  },
  {
   "cell_type": "markdown",
   "metadata": {},
   "source": [
    "$ \\text{minimize } w = Perc * ( venda - k * nota_{sustentabilidade}) $\n",
    "\n",
    "$ \\text{st.}  \\sum Perc = total_{kwh} $"
   ]
  },
  {
   "cell_type": "code",
   "execution_count": 270,
   "metadata": {},
   "outputs": [],
   "source": [
    "k = venda.mean() / nota.mean()"
   ]
  },
  {
   "cell_type": "code",
   "execution_count": 271,
   "metadata": {},
   "outputs": [],
   "source": [
    "objective = cp.Minimize(cp.sum(cp.multiply(X, [venda - k * nota])))\n",
    "total_mwh = cp.sum(X) == gasto_mwh\n",
    "proporcao = X/gasto_mwh <= 0.75\n",
    "constraints = [X >= 0, total_mwh, proporcao]\n",
    "prob = cp.Problem(objective, constraints)"
   ]
  },
  {
   "cell_type": "code",
   "execution_count": 272,
   "metadata": {},
   "outputs": [],
   "source": [
    "result = prob.solve()"
   ]
  },
  {
   "cell_type": "code",
   "execution_count": 273,
   "metadata": {},
   "outputs": [],
   "source": [
    "df_geradoras[\"Proposta\"] = X.value"
   ]
  },
  {
   "cell_type": "code",
   "execution_count": 274,
   "metadata": {},
   "outputs": [
    {
     "data": {
      "text/html": [
       "<div>\n",
       "<style scoped>\n",
       "    .dataframe tbody tr th:only-of-type {\n",
       "        vertical-align: middle;\n",
       "    }\n",
       "\n",
       "    .dataframe tbody tr th {\n",
       "        vertical-align: top;\n",
       "    }\n",
       "\n",
       "    .dataframe thead th {\n",
       "        text-align: right;\n",
       "    }\n",
       "</style>\n",
       "<table border=\"1\" class=\"dataframe\">\n",
       "  <thead>\n",
       "    <tr style=\"text-align: right;\">\n",
       "      <th></th>\n",
       "      <th>SiglaVendedor</th>\n",
       "      <th>PrecoVenda</th>\n",
       "      <th>NotaSustentabilidade</th>\n",
       "      <th>Fonte</th>\n",
       "      <th>Proposta</th>\n",
       "    </tr>\n",
       "  </thead>\n",
       "  <tbody>\n",
       "    <tr>\n",
       "      <th>17</th>\n",
       "      <td>SOLAR TECNOLOGIA</td>\n",
       "      <td>132.75</td>\n",
       "      <td>9.0</td>\n",
       "      <td>Solar Fotovoltaica</td>\n",
       "      <td>2.025000e-01</td>\n",
       "    </tr>\n",
       "    <tr>\n",
       "      <th>37</th>\n",
       "      <td>SANTA LUZIA V</td>\n",
       "      <td>140.93</td>\n",
       "      <td>9.0</td>\n",
       "      <td>Solar Fotovoltaica</td>\n",
       "      <td>6.750000e-02</td>\n",
       "    </tr>\n",
       "    <tr>\n",
       "      <th>36</th>\n",
       "      <td>SANTA LUZIA IX</td>\n",
       "      <td>149.34</td>\n",
       "      <td>9.0</td>\n",
       "      <td>Solar Fotovoltaica</td>\n",
       "      <td>2.796731e-12</td>\n",
       "    </tr>\n",
       "    <tr>\n",
       "      <th>16</th>\n",
       "      <td>SÃO ROQUE ENERGÉTICA</td>\n",
       "      <td>119.30</td>\n",
       "      <td>8.0</td>\n",
       "      <td>Hidrelétrica (UHE)</td>\n",
       "      <td>2.449162e-12</td>\n",
       "    </tr>\n",
       "    <tr>\n",
       "      <th>35</th>\n",
       "      <td>SANTA LUZIA VII</td>\n",
       "      <td>147.07</td>\n",
       "      <td>9.0</td>\n",
       "      <td>Solar Fotovoltaica</td>\n",
       "      <td>2.204459e-12</td>\n",
       "    </tr>\n",
       "  </tbody>\n",
       "</table>\n",
       "</div>"
      ],
      "text/plain": [
       "           SiglaVendedor  PrecoVenda  NotaSustentabilidade  \\\n",
       "17      SOLAR TECNOLOGIA      132.75                   9.0   \n",
       "37         SANTA LUZIA V      140.93                   9.0   \n",
       "36        SANTA LUZIA IX      149.34                   9.0   \n",
       "16  SÃO ROQUE ENERGÉTICA      119.30                   8.0   \n",
       "35       SANTA LUZIA VII      147.07                   9.0   \n",
       "\n",
       "                 Fonte      Proposta  \n",
       "17  Solar Fotovoltaica  2.025000e-01  \n",
       "37  Solar Fotovoltaica  6.750000e-02  \n",
       "36  Solar Fotovoltaica  2.796731e-12  \n",
       "16  Hidrelétrica (UHE)  2.449162e-12  \n",
       "35  Solar Fotovoltaica  2.204459e-12  "
      ]
     },
     "execution_count": 274,
     "metadata": {},
     "output_type": "execute_result"
    }
   ],
   "source": [
    "df_geradoras.sort_values(\"Proposta\", ascending=False)[:5]"
   ]
  },
  {
   "cell_type": "code",
   "execution_count": null,
   "metadata": {},
   "outputs": [],
   "source": []
  }
 ],
 "metadata": {
  "interpreter": {
   "hash": "24464837d40320972941072064c17688791955a510fa1202c4c130defe9f2e48"
  },
  "kernelspec": {
   "display_name": "Python 3.7.9 64-bit",
   "language": "python",
   "name": "python3"
  },
  "language_info": {
   "codemirror_mode": {
    "name": "ipython",
    "version": 3
   },
   "file_extension": ".py",
   "mimetype": "text/x-python",
   "name": "python",
   "nbconvert_exporter": "python",
   "pygments_lexer": "ipython3",
   "version": "3.7.9"
  },
  "orig_nbformat": 4
 },
 "nbformat": 4,
 "nbformat_minor": 2
}
